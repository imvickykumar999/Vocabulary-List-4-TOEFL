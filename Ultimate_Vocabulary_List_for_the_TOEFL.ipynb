{
  "nbformat": 4,
  "nbformat_minor": 0,
  "metadata": {
    "colab": {
      "provenance": []
    },
    "kernelspec": {
      "name": "python3",
      "display_name": "Python 3"
    },
    "language_info": {
      "name": "python"
    }
  },
  "cells": [
    {
      "cell_type": "markdown",
      "source": [
        "<center>\n",
        "\n",
        "# [Ultimate Vocabulary List for the TOEFL](https://drive.google.com/file/d/1OIwrPUX0LMeI3AbSLfNuo2vgzLNaLQPt/view)\n",
        "\n",
        "**570 WORDS YOU NEED TO KNOW**\n",
        "\n",
        "</center>"
      ],
      "metadata": {
        "id": "VYx6brhXvrZq"
      }
    },
    {
      "cell_type": "code",
      "execution_count": 2,
      "metadata": {
        "id": "5lDzUOeevdgN"
      },
      "outputs": [],
      "source": [
        "# Create a dataframe to append each row of table `The Academic Word Family List`"
      ]
    },
    {
      "cell_type": "code",
      "source": [],
      "metadata": {
        "id": "iV4qX1h8wXf5"
      },
      "execution_count": null,
      "outputs": []
    }
  ]
}